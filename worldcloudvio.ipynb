{
 "cells": [
  {
   "cell_type": "markdown",
   "metadata": {},
   "source": []
  },
  {
   "cell_type": "code",
   "execution_count": 34,
   "metadata": {},
   "outputs": [],
   "source": [
    "import numpy as np\n",
    "import pandas as pd\n",
    "from PIL import Image "
   ]
  },
  {
   "cell_type": "code",
   "execution_count": 35,
   "metadata": {},
   "outputs": [],
   "source": [
    "%matplotlib inline\n",
    "\n",
    "import matplotlib as mpl\n",
    "import matplotlib.pyplot as plt\n",
    "import matplotlib.patches as mpatches\n",
    "mpl.style.use('ggplot')"
   ]
  },
  {
   "cell_type": "code",
   "execution_count": 36,
   "metadata": {},
   "outputs": [
    {
     "name": "stdout",
     "output_type": "stream",
     "text": [
      "sudah intal\n"
     ]
    }
   ],
   "source": [
    "!pip3 install wordcloud\n",
    "from wordcloud import wordCloud ,STOPWORDS\n",
    "print('sudah intal')"
   ]
  },
  {
   "cell_type": "code",
   "execution_count": 37,
   "metadata": {},
   "outputs": [],
   "source": [
    "import urllib\n",
    "bby= open ('/home/yance/Downloads/Chat WhatsApp dengan Violita ❤️.txt', mode='r').read()"
   ]
  },
  {
   "cell_type": "code",
   "execution_count": null,
   "metadata": {},
   "outputs": [],
   "source": []
  },
  {
   "cell_type": "code",
   "execution_count": 38,
   "metadata": {},
   "outputs": [
    {
     "name": "stdout",
     "output_type": "stream",
     "text": [
      "192\n"
     ]
    }
   ],
   "source": [
    "stopwords = set(STOPWORDS)\n",
    "print(len(stopwords))"
   ]
  },
  {
   "cell_type": "code",
   "execution_count": 39,
   "metadata": {},
   "outputs": [
    {
     "ename": "TypeError",
     "evalue": "'module' object is not callable",
     "output_type": "error",
     "traceback": [
      "\u001b[0;31m---------------------------------------------------------------------------\u001b[0m",
      "\u001b[0;31mTypeError\u001b[0m                                 Traceback (most recent call last)",
      "\u001b[1;32m/home/yance/Downloads/worldcloudvio.ipynb Cell 8'\u001b[0m in \u001b[0;36m<cell line: 1>\u001b[0;34m()\u001b[0m\n\u001b[0;32m----> <a href='vscode-notebook-cell:/home/yance/Downloads/worldcloudvio.ipynb#ch0000006?line=0'>1</a>\u001b[0m bby_wc \u001b[39m=\u001b[39m wordcloud(\n\u001b[1;32m      <a href='vscode-notebook-cell:/home/yance/Downloads/worldcloudvio.ipynb#ch0000006?line=1'>2</a>\u001b[0m     background_color \u001b[39m=\u001b[39;49m \u001b[39m'\u001b[39;49m\u001b[39mwhite\u001b[39;49m\u001b[39m'\u001b[39;49m,\n\u001b[1;32m      <a href='vscode-notebook-cell:/home/yance/Downloads/worldcloudvio.ipynb#ch0000006?line=2'>3</a>\u001b[0m     max_words \u001b[39m=\u001b[39;49m \u001b[39m2000\u001b[39;49m,\n\u001b[1;32m      <a href='vscode-notebook-cell:/home/yance/Downloads/worldcloudvio.ipynb#ch0000006?line=3'>4</a>\u001b[0m     stopwords\u001b[39m=\u001b[39;49mstopwords\n\u001b[1;32m      <a href='vscode-notebook-cell:/home/yance/Downloads/worldcloudvio.ipynb#ch0000006?line=4'>5</a>\u001b[0m )\n\u001b[1;32m      <a href='vscode-notebook-cell:/home/yance/Downloads/worldcloudvio.ipynb#ch0000006?line=5'>6</a>\u001b[0m bby_wc\u001b[39m.\u001b[39mgenerate(bby)\n",
      "\u001b[0;31mTypeError\u001b[0m: 'module' object is not callable"
     ]
    }
   ],
   "source": [
    "bby_wc = wordcloud(\n",
    "    background_color = 'white',\n",
    "    max_words = 2000,\n",
    "    stopwords=stopwords\n",
    ")\n",
    "bby_wc.generate(bby)"
   ]
  }
 ],
 "metadata": {
  "interpreter": {
   "hash": "916dbcbb3f70747c44a77c7bcd40155683ae19c65e1c03b4aa3499c5328201f1"
  },
  "kernelspec": {
   "display_name": "Python 3.8.10 64-bit",
   "language": "python",
   "name": "python3"
  },
  "language_info": {
   "codemirror_mode": {
    "name": "ipython",
    "version": 3
   },
   "file_extension": ".py",
   "mimetype": "text/x-python",
   "name": "python",
   "nbconvert_exporter": "python",
   "pygments_lexer": "ipython3",
   "version": "3.8.10"
  },
  "orig_nbformat": 4
 },
 "nbformat": 4,
 "nbformat_minor": 2
}
